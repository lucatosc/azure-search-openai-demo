{
 "cells": [
  {
   "cell_type": "code",
   "execution_count": 10,
   "metadata": {},
   "outputs": [],
   "source": [
    "import os\n",
    "import openai\n",
    "from azure.identity import DefaultAzureCredential\n",
    "from azure.search.documents import SearchClient\n",
    "from azure.search.documents.models import QueryType\n",
    "\n",
    "# Replace these with your own values, either in environment variables or directly here\n",
    "AZURE_STORAGE_ACCOUNT = os.environ.get(\"AZURE_STORAGE_ACCOUNT\") or \"mystorageaccount\"\n",
    "AZURE_STORAGE_CONTAINER = os.environ.get(\"AZURE_STORAGE_CONTAINER\") or \"content\"\n",
    "AZURE_SEARCH_SERVICE = os.environ.get(\"AZURE_SEARCH_SERVICE\") or \"gptkb\"\n",
    "AZURE_SEARCH_INDEX = os.environ.get(\"AZURE_SEARCH_INDEX\") or \"gptkbindex\"\n",
    "AZURE_OPENAI_SERVICE = os.environ.get(\"AZURE_OPENAI_SERVICE\") or \"myopenai\"\n",
    "AZURE_OPENAI_GPT_DEPLOYMENT = os.environ.get(\"AZURE_OPENAI_GPT_DEPLOYMENT\") or \"davinci\"\n",
    "AZURE_OPENAI_CHATGPT_DEPLOYMENT = os.environ.get(\"AZURE_OPENAI_CHATGPT_DEPLOYMENT\") or \"chat\"\n",
    "AZURE_OPENAI_CHATGPT_MODEL = os.environ.get(\"AZURE_OPENAI_CHATGPT_MODEL\") or \"gpt-35-turbo\"\n",
    "\n",
    "# Use the current user identity to authenticate with Azure OpenAI, Cognitive Search and Blob Storage (no secrets needed, \n",
    "# just use 'az login' locally, and managed identity when deployed on Azure). If you need to use keys, use separate AzureKeyCredential instances with the \n",
    "# keys for each service\n",
    "azure_credential = DefaultAzureCredential()\n",
    "\n",
    "# Used by the OpenAI SDK\n",
    "openai.api_type = \"azure\"\n",
    "openai.api_base = f\"https://{AZURE_OPENAI_SERVICE}.openai.azure.com\"\n",
    "openai.api_version = \"2023-05-15\"\n",
    "\n",
    "# Comment these two lines out if using keys, set your API key in the OPENAI_API_KEY environment variable instead\n",
    "openai.api_type = \"azure_ad\"\n",
    "openai.api_key = azure_credential.get_token(\"https://cognitiveservices.azure.com/.default\").token\n",
    "\n",
    "# Set up clients for Cognitive Search and Storage\n",
    "search_client = SearchClient(\n",
    "    endpoint=f\"https://{AZURE_SEARCH_SERVICE}.search.windows.net\",\n",
    "    index_name=AZURE_SEARCH_INDEX,\n",
    "    credential=azure_credential)"
   ]
  },
  {
   "cell_type": "code",
   "execution_count": 11,
   "metadata": {},
   "outputs": [],
   "source": [
    "# Chat roles\n",
    "SYSTEM = \"system\"\n",
    "USER = \"user\"\n",
    "ASSISTANT = \"assistant\"\n",
    "\n",
    "system_message_chat_conversation = \"\"\"Assistant helps the company employees with their healthcare plan questions, and questions about the employee handbook. Be brief in your answers.\n",
    "Answer ONLY with the facts listed in the list of sources below. If there isn't enough information below, say you don't know. Do not generate answers that don't use the sources below. If asking a clarifying question to the user would help, ask the question.\n",
    "Each source has a name followed by colon and the actual information, always include the source name for each fact you use in the response. Use square brackets to reference the source, e.g. [info1.txt]. Don't combine sources, list each source separately, e.g. [info1.txt][info2.pdf].\n",
    "\"\"\"\n",
    "chat_conversations = [{\"role\" : SYSTEM, \"content\" : system_message_chat_conversation}]\n",
    "\n",
    "summary_prompt_template = \"\"\"Below is a summary of the conversation so far, and a new question asked by the user that needs to be answered by searching in a knowledge base. Generate a search query based on the conversation and the new question. Source names are not good search terms to include in the search query.\n",
    "\n",
    "Summary:\n",
    "{summary}\n",
    "\n",
    "Question:\n",
    "{question}\n",
    "\n",
    "Search query:\n",
    "\"\"\"\n"
   ]
  },
  {
   "cell_type": "code",
   "execution_count": 17,
   "metadata": {},
   "outputs": [
    {
     "name": "stdout",
     "output_type": "stream",
     "text": [
      "Searching: \"copay\" \"Northwind Health Plus\" \"Northwind Standard\" benefits details -source name\n",
      "-------------------\n",
      "\n",
      "-------------------\n",
      "\n",
      "{'role': 'system', 'content': \"Assistant helps the company employees with their healthcare plan questions, and questions about the employee handbook. Be brief in your answers.\\nAnswer ONLY with the facts listed in the list of sources below. If there isn't enough information below, say you don't know. Do not generate answers that don't use the sources below. If asking a clarifying question to the user would help, ask the question.\\nEach source has a name followed by colon and the actual information, always include the source name for each fact you use in the response. Use square brackets to reference the source, e.g. [info1.txt]. Don't combine sources, list each source separately, e.g. [info1.txt][info2.pdf].\\n\"}\n",
      "{'role': 'user', 'content': 'does my plan cover eye exam'}\n",
      "{'role': 'assistant', 'content': 'Yes, Northwind Health Plus plan covers vision exams, glasses, and contact lenses. However, Northwind Standard only covers vision and hearing screenings and certain preventive services such as routine physical exams, immunizations, and screenings for certain diseases such as cancer and diabetes. [Benefit_Options-2.pdf][Northwind_Standard_Benefits_Details-44.pdf]'}\n",
      "{'role': 'user', 'content': 'does my plan cover eye exam'}\n",
      "{'role': 'assistant', 'content': 'Yes, Northwind Health Plus plan covers vision exams, glasses, and contact lenses. [Benefit_Options-2.pdf][Northwind_Health_Plus_Benefits_Details-25.pdf]'}\n",
      "{'role': 'user', 'content': 'does my plan cover vision'}\n",
      "{'role': 'assistant', 'content': 'Yes, both Northwind Health Plus and Northwind Standard plans offer coverage for vision services. Northwind Health Plus plan offers coverage for vision exams, glasses, and contact lenses, whereas Northwind Standard plan only offers coverage for vision exams and glasses. [Benefit_Options-2.pdf][Northwind_Standard_Benefits_Details-97.pdf]'}\n",
      "{'role': 'user', 'content': 'does my plan cover cardio'}\n",
      "{'role': 'assistant', 'content': 'Unfortunately, I cannot find information about whether Northwind Health Plus or Northwind Standard plans cover cardio specifically. However, both plans offer coverage for medical services like hospital stays and doctor visits. [Benefit_Options-2.pdf]'}\n",
      "{'role': 'user', 'content': 'does my plan cover dental'}\n",
      "{'role': 'assistant', 'content': 'Yes, Northwind Standard plan offers coverage for dental services. This coverage includes medically necessary services for the relief of pain resulting from dental injury, as well as services for the administration of anesthesia in a facility. However, this plan does not offer coverage for emergency services, mental health and substance abuse coverage, or out-of-network services. [Benefit_Options-2.pdf][Northwind_Standard_Benefits_Details-23.pdf]'}\n",
      "{'role': 'user', 'content': 'how much is copay'}\n",
      "{'role': 'assistant', 'content': 'The amount of copay for Northwind Standard plan varies depending on the type of service you receive, and copays may also vary from provider to provider and from state to state. Northwind Health Plus plan also has copays for certain services, and the amount of copayment varies based on the type of service received, whether the service is rendered by an in-network or out-of-network provider, and other factors. For in-network services, copays for Northwind Health Plus plan are generally lower than for out-of-network services. The copayment for primary care visits is typically around $20, while specialist visits have a copayment of around $50. [Northwind_Standard_Benefits_Details-9.pdf][Northwind_Standard_Benefits_Details-10.pdf][Northwind_Health_Plus_Benefits_Details-9.pdf]'}\n"
     ]
    },
    {
     "data": {
      "text/plain": [
       "[None, None, None, None, None, None, None, None, None, None, None, None, None]"
      ]
     },
     "execution_count": 17,
     "metadata": {},
     "output_type": "execute_result"
    }
   ],
   "source": [
    "# Execute this cell multiple times updating user_input to accumulate chat history\n",
    "user_input = \"how much is copay\"\n",
    "\n",
    "# Exclude category, to simulate scenarios where there's a set of docs you can't see\n",
    "exclude_category = None\n",
    "\n",
    "if len(chat_conversations) > 1:\n",
    "    query_completion = openai.Completion.create(\n",
    "        engine=AZURE_OPENAI_GPT_DEPLOYMENT,\n",
    "        prompt=summary_prompt_template.format(summary=str(chat_conversations), question=user_input),\n",
    "        temperature=0.7,\n",
    "        max_tokens=32,\n",
    "        stop=[\"\\n\"])\n",
    "    search = query_completion.choices[0].text\n",
    "else:\n",
    "    search = user_input\n",
    "\n",
    "# Alternatively simply use search_client.search(q, top=3) if not using semantic search\n",
    "print(\"Searching:\", search)\n",
    "print(\"-------------------\")\n",
    "filter = \"category ne '{}'\".format(exclude_category.replace(\"'\", \"''\")) if exclude_category else None\n",
    "r = search_client.search(search, \n",
    "                         filter=filter,\n",
    "                         query_type=QueryType.SEMANTIC, \n",
    "                         query_language=\"en-us\", \n",
    "                         query_speller=\"lexicon\", \n",
    "                         semantic_configuration_name=\"default\", \n",
    "                         top=3)\n",
    "results = [doc[KB_FIELDS_SOURCEPAGE] + \": \" + doc[KB_FIELDS_CONTENT].replace(\"\\n\", \"\").replace(\"\\r\", \"\") for doc in r]\n",
    "content = \"\\n\".join(results)\n",
    "\n",
    "user_content = user_input + \" \\nSOURCES:\\n\" + content\n",
    "\n",
    "chat_conversations.append({\"role\": USER, \"content\": user_content })\n",
    "\n",
    "chat_completion = openai.ChatCompletion.create(\n",
    "    deployment_id=AZURE_OPENAI_CHATGPT_DEPLOYMENT,\n",
    "    model=AZURE_OPENAI_CHATGPT_MODEL,\n",
    "    messages=chat_conversations, \n",
    "    temperature=0.7, \n",
    "    max_tokens=1024, \n",
    "    n=1)\n",
    "chat_content = chat_completion.choices[0].message.content\n",
    "'''\n",
    "reset user content to avoid sources in conversation history\n",
    "add source as a single shot in query conversation\n",
    "'''\n",
    "chat_conversations[-1][\"content\"] = user_input\n",
    "chat_conversations.append({\"role\":ASSISTANT, \"content\": chat_content})\n",
    "\n",
    "print(\"\\n-------------------\\n\")\n",
    "[print(conversation) for conversation in chat_conversations]"
   ]
  }
 ],
 "metadata": {
  "kernelspec": {
   "display_name": "Python 3",
   "language": "python",
   "name": "python3"
  },
  "language_info": {
   "codemirror_mode": {
    "name": "ipython",
    "version": 3
   },
   "file_extension": ".py",
   "mimetype": "text/x-python",
   "name": "python",
   "nbconvert_exporter": "python",
   "pygments_lexer": "ipython3",
   "version": "3.11.4"
  },
  "orig_nbformat": 4,
  "vscode": {
   "interpreter": {
    "hash": "c40b9fc8dfc687e53ddb074d322e19207ef9cf3db51c580aef67976913dea803"
   }
  }
 },
 "nbformat": 4,
 "nbformat_minor": 2
}
